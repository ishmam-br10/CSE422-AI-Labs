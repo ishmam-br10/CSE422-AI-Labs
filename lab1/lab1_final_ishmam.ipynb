{
  "cells": [
    {
      "cell_type": "code",
      "execution_count": 1,
      "metadata": {
        "colab": {
          "base_uri": "https://localhost:8080/"
        },
        "id": "2Hg3T27vsnFx",
        "outputId": "5480eaea-9840-4da2-c74b-cff6743ed63c"
      },
      "outputs": [
        {
          "name": "stdout",
          "output_type": "stream",
          "text": [
            "['Arad 366 Zerind 75 Timisoara 118 Sibiu 140', 'Craiova 160 Dobreta 120 RimnicuVilcea 146 Pitesti 138', 'Eforie 161 Hirsova 86', 'Fagaras 176 Sibiu 99 Bucharest 211', 'Giurgiu 77 Bucharest 90', 'Mehadia 241 Lugoj 70 Dobreta 75', 'Neamt 234 lasi 87', 'Sibiu 253 Oradea 151 Arad 140 RimnicuVilcea 80 Fagaras 99', 'Oradea 380 Zerind 71 Sibiu 151', 'Pitesti 100 RimnicuVilcea 97 Craiova 138 Bucharest 101', 'RimnicuVilcea 193 Sibiu 80 Craiova 146 Pitesti 97', 'Dobreta 242 Mehadia 75 Craiova 120', 'Hirsova 151 Urziceni 98 Eforie 86', 'lasi 226 Vaslui 92 Neamt 87', 'Lugoj 244 Timisoara 111 Mehadia 70', 'Timisoara 329 Arad 118 Lugoj 111', 'Urziceni 80 Bucharest 85 Hirsova 98 Vaslui 142', 'Vaslui 199 Urziceni 142 lasi 92', 'Zerind 374 Oradea 71 Arad 75', 'Bucharest 0 Fagaras 211 Pitesti 101 Giurgiu 90 Urziceni 85']\n",
            "Arad 366 Zerind 75 Timisoara 118 Sibiu 140\n",
            "Craiova 160 Dobreta 120 RimnicuVilcea 146 Pitesti 138\n",
            "Eforie 161 Hirsova 86\n",
            "Fagaras 176 Sibiu 99 Bucharest 211\n",
            "Giurgiu 77 Bucharest 90\n",
            "Mehadia 241 Lugoj 70 Dobreta 75\n",
            "Neamt 234 lasi 87\n",
            "Sibiu 253 Oradea 151 Arad 140 RimnicuVilcea 80 Fagaras 99\n",
            "Oradea 380 Zerind 71 Sibiu 151\n",
            "Pitesti 100 RimnicuVilcea 97 Craiova 138 Bucharest 101\n",
            "RimnicuVilcea 193 Sibiu 80 Craiova 146 Pitesti 97\n",
            "Dobreta 242 Mehadia 75 Craiova 120\n",
            "Hirsova 151 Urziceni 98 Eforie 86\n",
            "lasi 226 Vaslui 92 Neamt 87\n",
            "Lugoj 244 Timisoara 111 Mehadia 70\n",
            "Timisoara 329 Arad 118 Lugoj 111\n",
            "Urziceni 80 Bucharest 85 Hirsova 98 Vaslui 142\n",
            "Vaslui 199 Urziceni 142 lasi 92\n",
            "Zerind 374 Oradea 71 Arad 75\n",
            "Bucharest 0 Fagaras 211 Pitesti 101 Giurgiu 90 Urziceni 85\n"
          ]
        }
      ],
      "source": [
        "#@title Read Input File\n",
        "data_list = []\n",
        "file_path = \"cities.txt\"\n",
        "with open(file_path, \"r\") as file:\n",
        "    data_list = [line.strip() for line in file]\n",
        "\n",
        "print(data_list)\n",
        "for i in data_list:\n",
        "  print(i)"
      ]
    },
    {
      "cell_type": "code",
      "execution_count": 2,
      "metadata": {
        "id": "s28cv5YUsumV"
      },
      "outputs": [],
      "source": [
        "#@title Heuristic and Nodes Dictionary\n",
        "heuristic_value = {}\n",
        "nodes_value = {}"
      ]
    },
    {
      "cell_type": "code",
      "execution_count": 3,
      "metadata": {
        "id": "vLULpZwmszU1"
      },
      "outputs": [],
      "source": [
        "#@title Update The Heuristic Dictionary\n",
        "for hv in data_list:\n",
        "  heuristic_list = []\n",
        "  heuristic_list = hv.split(\" \")\n",
        "  heuristic_value[heuristic_list[0]] = int(heuristic_list[1]) # node ar tar heuristic value\n"
      ]
    },
    {
      "cell_type": "code",
      "execution_count": 4,
      "metadata": {
        "colab": {
          "base_uri": "https://localhost:8080/"
        },
        "id": "KlH-8aCjs4CW",
        "outputId": "890023b4-90da-4888-94b4-924d9d6b8623"
      },
      "outputs": [
        {
          "data": {
            "text/plain": [
              "{'Arad': 366,\n",
              " 'Craiova': 160,\n",
              " 'Eforie': 161,\n",
              " 'Fagaras': 176,\n",
              " 'Giurgiu': 77,\n",
              " 'Mehadia': 241,\n",
              " 'Neamt': 234,\n",
              " 'Sibiu': 253,\n",
              " 'Oradea': 380,\n",
              " 'Pitesti': 100,\n",
              " 'RimnicuVilcea': 193,\n",
              " 'Dobreta': 242,\n",
              " 'Hirsova': 151,\n",
              " 'lasi': 226,\n",
              " 'Lugoj': 244,\n",
              " 'Timisoara': 329,\n",
              " 'Urziceni': 80,\n",
              " 'Vaslui': 199,\n",
              " 'Zerind': 374,\n",
              " 'Bucharest': 0}"
            ]
          },
          "execution_count": 4,
          "metadata": {},
          "output_type": "execute_result"
        }
      ],
      "source": [
        "heuristic_value"
      ]
    },
    {
      "cell_type": "code",
      "execution_count": 5,
      "metadata": {
        "cellView": "form",
        "colab": {
          "base_uri": "https://localhost:8080/"
        },
        "id": "zLGHP5y6s7aF",
        "outputId": "57f1e428-ae61-450c-d8fa-5434cbdc7c83"
      },
      "outputs": [
        {
          "name": "stdout",
          "output_type": "stream",
          "text": [
            "{'Arad': [], 'Craiova': [], 'Eforie': [], 'Fagaras': [], 'Giurgiu': [], 'Mehadia': [], 'Neamt': [], 'Sibiu': [], 'Oradea': [], 'Pitesti': [], 'RimnicuVilcea': [], 'Dobreta': [], 'Hirsova': [], 'lasi': [], 'Lugoj': [], 'Timisoara': [], 'Urziceni': [], 'Vaslui': [], 'Zerind': [], 'Bucharest': []}\n"
          ]
        }
      ],
      "source": [
        "#@title Update the Keys of Nodes Values\n",
        "# Format ==> Node : [[neighbour, value], [neighbour1, value1]]\n",
        "\n",
        "for a in data_list:\n",
        "  splitted = []\n",
        "  splitted = a.split(\" \")\n",
        "  nodes_value[splitted[0]] = [] # shudhu amar current node ta ke key hisebe add korbo dictionary te\n",
        "print(nodes_value)"
      ]
    },
    {
      "cell_type": "code",
      "execution_count": 6,
      "metadata": {
        "cellView": "form",
        "id": "C5V2UcqTs8js"
      },
      "outputs": [],
      "source": [
        "#@title Update the Values of Node Dictionary\n",
        "\n",
        "for a in data_list:\n",
        "  splitted1 = []\n",
        "  splitted1 = a.split(\" \")\n",
        "\n",
        "  # splitted 1 list e amader full text ache\n",
        "  # ekhn amra 2 theke shuru korbo tarpor len porjonto update korbo\n",
        "  for i in range(2, len(splitted1), 2):\n",
        "    nodes_value[splitted1[0]].append([splitted1[i], int(splitted1[i+1])])\n"
      ]
    },
    {
      "cell_type": "code",
      "execution_count": 7,
      "metadata": {
        "cellView": "form",
        "colab": {
          "base_uri": "https://localhost:8080/"
        },
        "id": "lN_jxaRRtBD-",
        "outputId": "ca6ee867-7c18-43b8-acf0-05cec325d14b"
      },
      "outputs": [
        {
          "name": "stdout",
          "output_type": "stream",
          "text": [
            "Arad : [['Zerind', 75], ['Timisoara', 118], ['Sibiu', 140]]\n",
            "Craiova : [['Dobreta', 120], ['RimnicuVilcea', 146], ['Pitesti', 138]]\n",
            "Eforie : [['Hirsova', 86]]\n",
            "Fagaras : [['Sibiu', 99], ['Bucharest', 211]]\n",
            "Giurgiu : [['Bucharest', 90]]\n",
            "Mehadia : [['Lugoj', 70], ['Dobreta', 75]]\n",
            "Neamt : [['lasi', 87]]\n",
            "Sibiu : [['Oradea', 151], ['Arad', 140], ['RimnicuVilcea', 80], ['Fagaras', 99]]\n",
            "Oradea : [['Zerind', 71], ['Sibiu', 151]]\n",
            "Pitesti : [['RimnicuVilcea', 97], ['Craiova', 138], ['Bucharest', 101]]\n",
            "RimnicuVilcea : [['Sibiu', 80], ['Craiova', 146], ['Pitesti', 97]]\n",
            "Dobreta : [['Mehadia', 75], ['Craiova', 120]]\n",
            "Hirsova : [['Urziceni', 98], ['Eforie', 86]]\n",
            "lasi : [['Vaslui', 92], ['Neamt', 87]]\n",
            "Lugoj : [['Timisoara', 111], ['Mehadia', 70]]\n",
            "Timisoara : [['Arad', 118], ['Lugoj', 111]]\n",
            "Urziceni : [['Bucharest', 85], ['Hirsova', 98], ['Vaslui', 142]]\n",
            "Vaslui : [['Urziceni', 142], ['lasi', 92]]\n",
            "Zerind : [['Oradea', 71], ['Arad', 75]]\n",
            "Bucharest : [['Fagaras', 211], ['Pitesti', 101], ['Giurgiu', 90], ['Urziceni', 85]]\n"
          ]
        }
      ],
      "source": [
        "#@title Update the Values of Node Dictionary\n",
        "# print(nodes_value)\n",
        "# ekhane amar proti node er child value ache\n",
        "for key, value in nodes_value.items():\n",
        "  print(f\"{key} : {value}\")"
      ]
    },
    {
      "cell_type": "code",
      "execution_count": 8,
      "metadata": {
        "id": "rWJh_BQ5uclM"
      },
      "outputs": [],
      "source": [
        "def a_star(priorityQueue, visited, graph, heuristic_value, destination):\n",
        "  # prothom kaj hocche check kora, jodi amar queue faka hoye jay tahole ami recursion venge dibo\n",
        "  if not priorityQueue:\n",
        "    print(\"No path found.\")\n",
        "    return None\n",
        "\n",
        "  # jodi priority queue e kisu thake tahole:\n",
        "  priorityQueue.sort(key=lambda x: x[1]) # sort according to value\n",
        "  popped = priorityQueue.pop(0)\n",
        "  # print(popped)\n",
        "  # print(visited)\n",
        "  # f(n)     =    g(n)    +     h(n)\n",
        "  # total cost = actual cost + heuristic cost\n",
        "  currentState, total_cost, actual_cost, path = popped\n",
        "  # print(graph[currentState])\n",
        "\n",
        "  if currentState == destination:\n",
        "    print(\"Path found, path is: \")\n",
        "    for i in range (0, len(path)):\n",
        "      if i < len(path)-1:\n",
        "        print(path[i], end=\" -> \")\n",
        "      else:\n",
        "        print(path[i])\n",
        "    print(\"Total cost is: \", total_cost)\n",
        "    return\n",
        "\n",
        "    # jodi amar currentcity already theke thake, tahole skipppppp\n",
        "  if currentState in visited:\n",
        "    # print(\"already there\")\n",
        "    return\n",
        "  # jodi na theke thake, tahole push korbo\n",
        "  visited.append(currentState)\n",
        "  # print(visited)\n",
        "\n",
        "\n",
        "  for neighbor, cost in graph[currentState]:\n",
        "    # ami koi theke aschi, sei onujayi cost\n",
        "    iterated_actual_cost = actual_cost + cost\n",
        "    # total cost\n",
        "    total_cost = iterated_actual_cost + heuristic_value[neighbor]\n",
        "    # print(neighbor)\n",
        "    # print(total_cost)\n",
        "\n",
        "    if neighbor not in visited:\n",
        "      # priority queue update hobe, basically abar notun kore recursion\n",
        "      priorityQueue.append([neighbor, total_cost, iterated_actual_cost, path + [neighbor]])\n",
        "  # recursion er loop\n",
        "  return a_star(priorityQueue, visited, graph, heuristic_value, destination)"
      ]
    },
    {
      "cell_type": "code",
      "execution_count": 9,
      "metadata": {
        "colab": {
          "base_uri": "https://localhost:8080/"
        },
        "id": "cbm548lNtIXm",
        "outputId": "650b0faa-dbba-413b-e450-5c3e6346daa8"
      },
      "outputs": [
        {
          "name": "stdout",
          "output_type": "stream",
          "text": [
            "Path found, path is: \n",
            "Arad -> Sibiu -> RimnicuVilcea -> Pitesti -> Bucharest\n",
            "Total cost is:  418\n"
          ]
        }
      ],
      "source": [
        "start = 'Arad'\n",
        "destination = 'Bucharest'\n",
        "priorityQueue = [[start, heuristic_value[start], 0, [start]]]\n",
        "visited = []\n",
        "# nodes value hoitese basically amar graph\n",
        "a_star(priorityQueue, visited, nodes_value, heuristic_value, destination)"
      ]
    },
    {
      "cell_type": "code",
      "execution_count": 10,
      "metadata": {
        "colab": {
          "base_uri": "https://localhost:8080/"
        },
        "id": "SPdcaTtWv45F",
        "outputId": "12a0d34f-92d1-4029-8178-e94385ca1e5a"
      },
      "outputs": [
        {
          "data": {
            "text/plain": [
              "{'Arad': [['Zerind', 75], ['Timisoara', 118], ['Sibiu', 140]],\n",
              " 'Craiova': [['Dobreta', 120], ['RimnicuVilcea', 146], ['Pitesti', 138]],\n",
              " 'Eforie': [['Hirsova', 86]],\n",
              " 'Fagaras': [['Sibiu', 99], ['Bucharest', 211]],\n",
              " 'Giurgiu': [['Bucharest', 90]],\n",
              " 'Mehadia': [['Lugoj', 70], ['Dobreta', 75]],\n",
              " 'Neamt': [['lasi', 87]],\n",
              " 'Sibiu': [['Oradea', 151],\n",
              "  ['Arad', 140],\n",
              "  ['RimnicuVilcea', 80],\n",
              "  ['Fagaras', 99]],\n",
              " 'Oradea': [['Zerind', 71], ['Sibiu', 151]],\n",
              " 'Pitesti': [['RimnicuVilcea', 97], ['Craiova', 138], ['Bucharest', 101]],\n",
              " 'RimnicuVilcea': [['Sibiu', 80], ['Craiova', 146], ['Pitesti', 97]],\n",
              " 'Dobreta': [['Mehadia', 75], ['Craiova', 120]],\n",
              " 'Hirsova': [['Urziceni', 98], ['Eforie', 86]],\n",
              " 'lasi': [['Vaslui', 92], ['Neamt', 87]],\n",
              " 'Lugoj': [['Timisoara', 111], ['Mehadia', 70]],\n",
              " 'Timisoara': [['Arad', 118], ['Lugoj', 111]],\n",
              " 'Urziceni': [['Bucharest', 85], ['Hirsova', 98], ['Vaslui', 142]],\n",
              " 'Vaslui': [['Urziceni', 142], ['lasi', 92]],\n",
              " 'Zerind': [['Oradea', 71], ['Arad', 75]],\n",
              " 'Bucharest': [['Fagaras', 211],\n",
              "  ['Pitesti', 101],\n",
              "  ['Giurgiu', 90],\n",
              "  ['Urziceni', 85]]}"
            ]
          },
          "execution_count": 10,
          "metadata": {},
          "output_type": "execute_result"
        }
      ],
      "source": [
        "nodes_value"
      ]
    },
    {
      "cell_type": "code",
      "execution_count": 11,
      "metadata": {
        "colab": {
          "base_uri": "https://localhost:8080/"
        },
        "id": "bx0ZpOU2v6QO",
        "outputId": "7afa383c-f735-40f7-fb97-9ec81ae48b16"
      },
      "outputs": [
        {
          "data": {
            "text/plain": [
              "{'Arad': 366,\n",
              " 'Craiova': 160,\n",
              " 'Eforie': 161,\n",
              " 'Fagaras': 176,\n",
              " 'Giurgiu': 77,\n",
              " 'Mehadia': 241,\n",
              " 'Neamt': 234,\n",
              " 'Sibiu': 253,\n",
              " 'Oradea': 380,\n",
              " 'Pitesti': 100,\n",
              " 'RimnicuVilcea': 193,\n",
              " 'Dobreta': 242,\n",
              " 'Hirsova': 151,\n",
              " 'lasi': 226,\n",
              " 'Lugoj': 244,\n",
              " 'Timisoara': 329,\n",
              " 'Urziceni': 80,\n",
              " 'Vaslui': 199,\n",
              " 'Zerind': 374,\n",
              " 'Bucharest': 0}"
            ]
          },
          "execution_count": 11,
          "metadata": {},
          "output_type": "execute_result"
        }
      ],
      "source": [
        "heuristic_value"
      ]
    }
  ],
  "metadata": {
    "colab": {
      "provenance": []
    },
    "kernelspec": {
      "display_name": "base",
      "language": "python",
      "name": "python3"
    },
    "language_info": {
      "codemirror_mode": {
        "name": "ipython",
        "version": 3
      },
      "file_extension": ".py",
      "mimetype": "text/x-python",
      "name": "python",
      "nbconvert_exporter": "python",
      "pygments_lexer": "ipython3",
      "version": "3.9.7"
    }
  },
  "nbformat": 4,
  "nbformat_minor": 0
}
