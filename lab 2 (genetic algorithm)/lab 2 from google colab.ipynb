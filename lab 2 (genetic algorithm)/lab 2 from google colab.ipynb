{
  "cells": [
    {
      "cell_type": "code",
      "execution_count": 12,
      "metadata": {
        "cellView": "form",
        "id": "-x2BF1XIOltq"
      },
      "outputs": [],
      "source": [
        "#@title Genetic Algorithm\n",
        "import random"
      ]
    },
    {
      "cell_type": "markdown",
      "metadata": {
        "id": "fPmTnOs_U17M"
      },
      "source": [
        "# TASK 1"
      ]
    },
    {
      "cell_type": "code",
      "execution_count": 13,
      "metadata": {
        "cellView": "form",
        "id": "z_T7H4QPQfLf"
      },
      "outputs": [],
      "source": [
        "#@title Fitness Calculator\n",
        "def price_calculation(chromosome_set, history, capita):\n",
        "  history_data = history\n",
        "  # chromosome1, chromosome2, chromosome3, chromosome4 = chromosome_set\n",
        "  # chromosome theke jinis gula nibo\n",
        "  stop_loss = chromosome_set[0]\n",
        "  take_profit = chromosome_set[1]\n",
        "  trade_size = chromosome_set[2]\n",
        "  capita = capita\n",
        "  # capita ke update kora lagbe oita ekta var e rakhbo\n",
        "  updated_capita = capita\n",
        "  for i in history_data:\n",
        "    # koto tuku taka trade korbo\n",
        "    trade_money = updated_capita * (trade_size / 100)\n",
        "    # print(trade_money)\n",
        "    goccha = 0\n",
        "    # amader i ki stop losss er theke beshi  na kom?\n",
        "    if i < (stop_loss * -1):\n",
        "      # tahole ami cap koira dibo loss\n",
        "      goccha = trade_money * (- stop_loss / 100 )\n",
        "      updated_capita = updated_capita + goccha\n",
        "      # print(\"hit stop loss\")\n",
        "      # print(\"updated capita: \", updated_capita)\n",
        "\n",
        "    # ebar dekhi je lav er ki hal !\n",
        "    elif i > take_profit:\n",
        "      goccha = trade_money * (take_profit / 100)\n",
        "      updated_capita = updated_capita + goccha\n",
        "      # print(\"hit take profit\")\n",
        "      # print(\"updated capita: \", updated_capita)\n",
        "\n",
        "    else:\n",
        "      goccha = trade_money * (i / 100)\n",
        "      updated_capita = updated_capita + goccha\n",
        "      # print(\"updated capita: \", updated_capita)\n",
        "\n",
        "  fitness = updated_capita - capita\n",
        "  # print(\"fitness: \", fitness)\n",
        "\n",
        "  return fitness"
      ]
    },
    {
      "cell_type": "code",
      "execution_count": 14,
      "metadata": {
        "cellView": "form",
        "id": "yJVhorrgcDHl"
      },
      "outputs": [],
      "source": [
        "#@title Parent Generation Process\n",
        "def generate_parents():\n",
        "  stop_loss = random.randint(1, 99)\n",
        "  take_profit = random.randint(1, 99)\n",
        "  trade_size = random.randint(1, 99)\n",
        "  return [stop_loss, take_profit, trade_size]\n",
        "\n",
        "def population(size = 4):\n",
        "  initial_population_set = []\n",
        "  for i in range(size):\n",
        "    initial_population_set.append(generate_parents())\n",
        "  return initial_population_set\n",
        "\n"
      ]
    },
    {
      "cell_type": "code",
      "execution_count": 15,
      "metadata": {
        "cellView": "form",
        "id": "WL1N_DyEGeWQ"
      },
      "outputs": [],
      "source": [
        "#@title Select best 2 parents\n",
        "def select_best_parents(population_set):\n",
        "  fitnessOfParents = []\n",
        "  historical_prediction = [-1.2, 3.4, -0.8, 2.1, -2.5, 1.7, -0.3, 5.8, -1.1, 3.5]\n",
        "\n",
        "  for i in range(0, len(population_set)):\n",
        "    # fitnessOfParents[i] = price_calculation(population_set[i], historical_prediction, 1000)\n",
        "    fitnessOfParents.append([i, price_calculation(population_set[i], historical_prediction, 1000)])\n",
        "\n",
        "\n",
        "  fitnessOfParents = sorted(fitnessOfParents, key=lambda x: x[1], reverse=True)\n",
        "\n",
        "  # print(fitnessOfParents)\n",
        "  selected_parents = []\n",
        "  selected_parents.append(population_set[fitnessOfParents[0][0]])\n",
        "  selected_parents.append(population_set[fitnessOfParents[1][0]])\n",
        "  return selected_parents"
      ]
    },
    {
      "cell_type": "code",
      "execution_count": 16,
      "metadata": {
        "cellView": "form",
        "id": "pqHu1nxTRbSq"
      },
      "outputs": [],
      "source": [
        "#@title Crossover (1 point crossover)\n",
        "def crossover(parent1, parent2):\n",
        "    # Random crossover point\n",
        "    crossover_point = random.randint(1, len(parent1) - 1)\n",
        "\n",
        "    # Create offspring by combining parts of parent1 and parent2\n",
        "    offspring1 = parent1[:crossover_point] + parent2[crossover_point:]\n",
        "    offspring2 = parent2[:crossover_point] + parent1[crossover_point:]\n",
        "\n",
        "    return offspring1, offspring2\n"
      ]
    },
    {
      "cell_type": "code",
      "execution_count": 17,
      "metadata": {
        "cellView": "form",
        "id": "kE7ij6S1V19r"
      },
      "outputs": [],
      "source": [
        "#@title Crossover (2 point crossover)\n",
        "def two_point_crossover(parent1, parent2):\n",
        "    point1, point2 = sorted(random.sample(range(len(parent1)), 2))\n",
        "    offspring1 = parent1[:point1] + parent2[point1:point2] + parent1[point2:]\n",
        "    offspring2 = parent2[:point1] + parent1[point1:point2] + parent2[point2:]\n",
        "\n",
        "    return offspring1, offspring2"
      ]
    },
    {
      "cell_type": "code",
      "execution_count": 18,
      "metadata": {
        "cellView": "form",
        "id": "MYWs1EVzRfOK"
      },
      "outputs": [],
      "source": [
        "#@title Mutate\n",
        "def mutation(offspring, mutation_rate=0.05):\n",
        "    for i in range(len(offspring)):\n",
        "        #5% mutation\n",
        "        if random.random() < mutation_rate:\n",
        "            offspring[i] = random.randint(1, 99)  # Random mutation\n",
        "    return offspring"
      ]
    },
    {
      "cell_type": "code",
      "execution_count": 19,
      "metadata": {
        "cellView": "form",
        "id": "LqiFxFx8Rlb7"
      },
      "outputs": [],
      "source": [
        "#@title Evolve\n",
        "def evolve(population, generations=10):\n",
        "    best_chromosome = None\n",
        "    best_fitness = -float('inf')\n",
        "\n",
        "    for generation in range(generations):\n",
        "        print(f\"Generation {generation + 1}:\")\n",
        "\n",
        "        # Select the best two parents\n",
        "        parents = select_best_parents(population)\n",
        "\n",
        "        # Generate offspring\n",
        "        offspring1, offspring2 = crossover(parents[0], parents[1])\n",
        "\n",
        "        # Apply mutation to offspring\n",
        "        offspring1 = mutation(offspring1)\n",
        "        offspring2 = mutation(offspring2)\n",
        "\n",
        "        # Replace the worst parents in the population with the new offspring\n",
        "        population.append(offspring1)\n",
        "        population.append(offspring2)\n",
        "\n",
        "        # Sort population based on fitness\n",
        "        historical_prediction = [-1.2, 3.4, -0.8, 2.1, -2.5, 1.7, -0.3, 5.8, -1.1, 3.5]\n",
        "        population = sorted(population, key=lambda x: price_calculation(x, historical_prediction, 1000), reverse=True)\n",
        "\n",
        "        # Update the best chromosome\n",
        "        current_best_fitness = price_calculation(population[0], historical_prediction, 1000)\n",
        "        if current_best_fitness > best_fitness:\n",
        "            best_fitness = current_best_fitness\n",
        "            best_chromosome = population[0]\n",
        "\n",
        "        # Keep only the best 4 individuals (elitism)\n",
        "        population = population[:4]\n",
        "        print(\"4 elite population\")\n",
        "        print(population)\n",
        "    print(\"Best Chromosome:\", best_chromosome)\n",
        "    print(\"Best Fitness:\", best_fitness)\n",
        "    return best_chromosome\n"
      ]
    },
    {
      "cell_type": "code",
      "execution_count": 20,
      "metadata": {
        "cellView": "form",
        "colab": {
          "base_uri": "https://localhost:8080/"
        },
        "id": "qg_ojTp5Rysf",
        "outputId": "00cf2638-1bf8-4092-971e-eea892656e39"
      },
      "outputs": [
        {
          "name": "stdout",
          "output_type": "stream",
          "text": [
            "[[99, 35, 61], [58, 67, 25], [23, 25, 82], [27, 92, 50]]\n",
            "Generation 1:\n",
            "4 elite population\n",
            "[[23, 25, 82], [99, 25, 82], [99, 35, 61], [23, 35, 61]]\n",
            "Generation 2:\n",
            "4 elite population\n",
            "[[23, 25, 82], [99, 25, 82], [23, 25, 82], [99, 25, 82]]\n",
            "Generation 3:\n",
            "4 elite population\n",
            "[[23, 25, 82], [99, 25, 82], [23, 25, 82], [99, 25, 82]]\n",
            "Generation 4:\n",
            "4 elite population\n",
            "[[23, 25, 82], [99, 25, 82], [23, 25, 82], [99, 25, 82]]\n",
            "Generation 5:\n",
            "4 elite population\n",
            "[[23, 25, 82], [99, 25, 82], [23, 25, 82], [99, 25, 82]]\n",
            "Generation 6:\n",
            "4 elite population\n",
            "[[23, 25, 82], [99, 25, 82], [23, 25, 82], [99, 25, 82]]\n",
            "Generation 7:\n",
            "4 elite population\n",
            "[[23, 25, 82], [99, 25, 82], [23, 25, 82], [99, 25, 82]]\n",
            "Generation 8:\n",
            "4 elite population\n",
            "[[23, 25, 82], [99, 25, 82], [23, 25, 82], [99, 25, 82]]\n",
            "Generation 9:\n",
            "4 elite population\n",
            "[[23, 25, 82], [99, 25, 82], [23, 25, 82], [99, 25, 82]]\n",
            "Generation 10:\n",
            "4 elite population\n",
            "[[23, 25, 82], [99, 25, 82], [23, 25, 82], [99, 25, 82]]\n",
            "Best Chromosome: [23, 25, 82]\n",
            "Best Fitness: 88.13775481578364\n"
          ]
        }
      ],
      "source": [
        "# @title Runner\n",
        "# Run Forrest Runnnnnnnnnnnnn\n",
        "# Initialize population\n",
        "initial_population = population(4)\n",
        "print(initial_population)\n",
        "# Evolve for 10 generations\n",
        "best_chromosome = evolve(initial_population, generations=10)"
      ]
    },
    {
      "cell_type": "markdown",
      "metadata": {
        "id": "23PGy3RNUwQr"
      },
      "source": [
        "# TASK 2\n"
      ]
    },
    {
      "cell_type": "code",
      "execution_count": 21,
      "metadata": {
        "cellView": "form",
        "id": "CuSPx7XNU0Gz"
      },
      "outputs": [],
      "source": [
        "#@title Evolve\n",
        "def evolve_updated(population, generations=10):\n",
        "    best_chromosome = None\n",
        "    best_fitness = -float('inf')\n",
        "\n",
        "    for generation in range(generations):\n",
        "        print(f\"Generation {generation + 1}:\")\n",
        "\n",
        "        # Select the best two parents\n",
        "        parents = select_best_parents(population)\n",
        "\n",
        "        # Generate offspring\n",
        "        offspring1, offspring2 = two_point_crossover(parents[0], parents[1])\n",
        "\n",
        "        # Apply mutation to offspring\n",
        "        offspring1 = mutation(offspring1)\n",
        "        offspring2 = mutation(offspring2)\n",
        "\n",
        "        # Replace the worst parents in the population with the new offspring\n",
        "        population.append(offspring1)\n",
        "        population.append(offspring2)\n",
        "\n",
        "        # Sort population based on fitness\n",
        "        historical_prediction = [-1.2, 3.4, -0.8, 2.1, -2.5, 1.7, -0.3, 5.8, -1.1, 3.5]\n",
        "        population = sorted(population, key=lambda x: price_calculation(x, historical_prediction, 1000), reverse=True)\n",
        "\n",
        "        # Update the best chromosome\n",
        "        current_best_fitness = price_calculation(population[0], historical_prediction, 1000)\n",
        "        if current_best_fitness > best_fitness:\n",
        "            best_fitness = current_best_fitness\n",
        "            best_chromosome = population[0]\n",
        "\n",
        "        # Keep only the best 4 individuals (elitism)\n",
        "        population = population[:4]\n",
        "        print(\"4 elite population\")\n",
        "        print(population)\n",
        "    print(\"Best Chromosome:\", best_chromosome)\n",
        "    print(\"Best Fitness:\", best_fitness)\n",
        "    return best_chromosome\n"
      ]
    },
    {
      "cell_type": "code",
      "execution_count": 22,
      "metadata": {
        "cellView": "form",
        "colab": {
          "base_uri": "https://localhost:8080/"
        },
        "id": "JpyW6YgFWWrK",
        "outputId": "a59729ca-f795-49a5-c154-300b8e9d9fa5"
      },
      "outputs": [
        {
          "name": "stdout",
          "output_type": "stream",
          "text": [
            "[[93, 67, 8], [31, 79, 96], [90, 92, 58], [28, 18, 21]]\n",
            "Generation 1:\n",
            "4 elite population\n",
            "[[31, 79, 96], [90, 79, 96], [90, 92, 58], [31, 92, 58]]\n",
            "Generation 2:\n",
            "4 elite population\n",
            "[[31, 79, 96], [90, 79, 96], [90, 79, 96], [31, 79, 96]]\n",
            "Generation 3:\n",
            "4 elite population\n",
            "[[31, 79, 96], [90, 79, 96], [90, 79, 96], [31, 79, 96]]\n",
            "Generation 4:\n",
            "4 elite population\n",
            "[[31, 79, 96], [90, 79, 96], [90, 79, 96], [31, 79, 96]]\n",
            "Generation 5:\n",
            "4 elite population\n",
            "[[31, 79, 96], [90, 79, 96], [90, 79, 96], [31, 79, 96]]\n",
            "Generation 6:\n",
            "4 elite population\n",
            "[[31, 79, 96], [90, 79, 96], [90, 79, 96], [31, 79, 96]]\n",
            "Generation 7:\n",
            "4 elite population\n",
            "[[31, 79, 96], [90, 79, 96], [90, 79, 96], [31, 79, 96]]\n",
            "Generation 8:\n",
            "4 elite population\n",
            "[[31, 79, 96], [90, 79, 96], [90, 79, 96], [31, 79, 96]]\n",
            "Generation 9:\n",
            "4 elite population\n",
            "[[31, 79, 96], [90, 79, 96], [90, 79, 96], [31, 79, 96]]\n",
            "Generation 10:\n",
            "4 elite population\n",
            "[[31, 79, 96], [90, 79, 96], [90, 79, 96], [31, 79, 96]]\n",
            "Best Chromosome: [31, 79, 96]\n",
            "Best Fitness: 103.41489217346862\n"
          ]
        }
      ],
      "source": [
        "# @title Runner\n",
        "# Run Forrest Runnnnnnnnnnnnn\n",
        "# Initialize population\n",
        "initial_population = population(4)\n",
        "print(initial_population)\n",
        "# Evolve for 10 generations\n",
        "best_chromosome = evolve_updated(initial_population, generations=10)"
      ]
    }
  ],
  "metadata": {
    "colab": {
      "provenance": []
    },
    "kernelspec": {
      "display_name": "base",
      "language": "python",
      "name": "python3"
    },
    "language_info": {
      "codemirror_mode": {
        "name": "ipython",
        "version": 3
      },
      "file_extension": ".py",
      "mimetype": "text/x-python",
      "name": "python",
      "nbconvert_exporter": "python",
      "pygments_lexer": "ipython3",
      "version": "3.9.7"
    }
  },
  "nbformat": 4,
  "nbformat_minor": 0
}
